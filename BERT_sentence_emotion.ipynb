{
 "cells": [
  {
   "cell_type": "code",
   "execution_count": 5,
   "id": "a89a5a5a",
   "metadata": {},
   "outputs": [],
   "source": [
    "import os\n",
    "import pandas as pd\n",
    "import numpy as np\n",
    "from tqdm import tqdm, trange\n",
    "\n",
    "import torch\n",
    "import torch.nn as nn\n",
    "import torch.optim as optim\n",
    "import torch.nn.functional as F\n",
    "from torch.utils.data import Dataset, DataLoader\n",
    "from transformers import BertPreTrainedModel, BertModel\n",
    "\n",
    "from transformers import AutoConfig, AutoTokenizer"
   ]
  },
  {
   "cell_type": "code",
   "execution_count": 6,
   "id": "5767a9a3",
   "metadata": {},
   "outputs": [],
   "source": [
    "from sklearn import metrics\n",
    "from sklearn.metrics import accuracy_score\n",
    "from sklearn.metrics import confusion_matrix, classification_report"
   ]
  },
  {
   "cell_type": "code",
   "execution_count": 9,
   "id": "f152ab11",
   "metadata": {},
   "outputs": [],
   "source": [
    "train_df = pd.read_csv('data/train.txt', sep=';')\n",
    "test_df = pd.read_csv('data/test.txt', sep=';')\n",
    "val_df = pd.read_csv('data/val.txt', sep=';')"
   ]
  },
  {
   "cell_type": "code",
   "execution_count": 12,
   "id": "a80788ea",
   "metadata": {},
   "outputs": [
    {
     "data": {
      "text/plain": [
       "((15999, 2), (1999, 2), (1999, 2))"
      ]
     },
     "execution_count": 12,
     "metadata": {},
     "output_type": "execute_result"
    }
   ],
   "source": [
    "train_df.shape, test_df.shape, val_df.shape"
   ]
  },
  {
   "cell_type": "code",
   "execution_count": 13,
   "id": "ecd92253",
   "metadata": {},
   "outputs": [],
   "source": [
    "train_df.columns = ['sentence', 'emotion']\n",
    "test_df.columns = ['sentence', 'emotion']\n",
    "val_df.columns = ['sentence', 'emotion']"
   ]
  },
  {
   "cell_type": "code",
   "execution_count": 19,
   "id": "d11cf176",
   "metadata": {},
   "outputs": [
    {
     "data": {
      "text/plain": [
       "[66, 61, 61]"
      ]
     },
     "execution_count": 19,
     "metadata": {},
     "output_type": "execute_result"
    }
   ],
   "source": [
    "# get max len of sentences\n",
    "def max_len(data):\n",
    "    return data['sentence'].apply(lambda x: len(x.split())).max()\n",
    "\n",
    "max_lens = [max_len(train_df), max_len(test_df), max_len(val_df)]\n",
    "max_lens"
   ]
  },
  {
   "cell_type": "code",
   "execution_count": 23,
   "id": "d55718dd",
   "metadata": {},
   "outputs": [],
   "source": [
    "MODEL_OUT_DIR = 'model_output'\n",
    "TRAIN_FILE_PATH = 'data/train.txt'\n",
    "VALID_FILE_PATH = 'data/val.txt'\n",
    "TEST_FILE_PATH = 'data/test.txt'\n",
    "\n",
    "## Model Configurations\n",
    "MAX_LEN_TRAIN = 68\n",
    "MAX_LEN_VALID = 68\n",
    "MAX_LEN_TEST = 68\n",
    "BATCH_SIZE = 160\n",
    "LR = 1e-5\n",
    "NUM_EPOCHS = 10\n",
    "NUM_THREADS = 1  ## Number of threads for collecting dataset\n",
    "MODEL_NAME = 'bert-base-uncased'\n",
    "LABEL_DICT = {'joy':0, 'sadness':1, 'anger':2, 'fear':3, 'love':4, 'surprise':5}\n",
    "\n",
    "if not os.path.isdir(MODEL_OUT_DIR):\n",
    "    os.makedirs(MODEL_OUT_DIR)"
   ]
  },
  {
   "cell_type": "code",
   "execution_count": 17,
   "id": "b7262664",
   "metadata": {},
   "outputs": [],
   "source": []
  },
  {
   "cell_type": "code",
   "execution_count": null,
   "id": "101c7665",
   "metadata": {},
   "outputs": [],
   "source": []
  }
 ],
 "metadata": {
  "kernelspec": {
   "display_name": "Python 3 (ipykernel)",
   "language": "python",
   "name": "python3"
  },
  "language_info": {
   "codemirror_mode": {
    "name": "ipython",
    "version": 3
   },
   "file_extension": ".py",
   "mimetype": "text/x-python",
   "name": "python",
   "nbconvert_exporter": "python",
   "pygments_lexer": "ipython3",
   "version": "3.8.10"
  }
 },
 "nbformat": 4,
 "nbformat_minor": 5
}
